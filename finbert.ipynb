{
 "cells": [
  {
   "cell_type": "code",
   "execution_count": 4,
   "id": "8ae2ab91",
   "metadata": {},
   "outputs": [
    {
     "name": "stdout",
     "output_type": "stream",
     "text": [
      "Sentiment analysis complete. Results saved to 'C:\\Users\\merci\\Documents\\SNU\\capstone\\sentiment_analysis_results_amazon.csv'\n"
     ]
    }
   ],
   "source": [
    "import pandas as pd\n",
    "from transformers import BertTokenizer, BertForSequenceClassification\n",
    "import torch\n",
    "\n",
    "# Initialize FinBERT model and tokenizer\n",
    "model_name = \"yiyanghkust/finbert-tone\"\n",
    "tokenizer = BertTokenizer.from_pretrained(model_name)\n",
    "model = BertForSequenceClassification.from_pretrained(model_name)\n",
    "\n",
    "#opinion mining function\n",
    "def get_sentiment(text):\n",
    "    inputs = tokenizer(text, return_tensors=\"pt\", truncation=True, max_length=512)\n",
    "    outputs = model(**inputs)\n",
    "    probabilities = torch.softmax(outputs.logits, dim=1)[0]\n",
    "    labels = ['negative', 'neutral', 'positive']\n",
    "    sentiment = labels[torch.argmax(probabilities)]\n",
    "    confidence = probabilities[torch.argmax(probabilities)].item()\n",
    "    return sentiment, confidence\n",
    "\n",
    "#file paths\n",
    "file_paths = {\n",
    "    \"reddit_data\": r\"C:\\Users\\merci\\Documents\\SNU\\capstone\\dataset_opinion_mining\\reddit\\preprocessed_reddit_amazon.csv\",\n",
    "    \"newsapi_general\": r\"C:\\Users\\merci\\Documents\\SNU\\capstone\\dataset_opinion_mining\\news_api_general\\preprocessed_amazon_news.csv\",\n",
    "    \"newsapi_finance\": r\"C:\\Users\\merci\\Documents\\SNU\\capstone\\dataset_opinion_mining\\news_api_finance\\preprocessed_amazon_news_fin.csv\"\n",
    "}\n",
    "\n",
    "# DataFrame to store all results\n",
    "all_data = pd.DataFrame()\n",
    "\n",
    "for name, file_path in file_paths.items():\n",
    "    \n",
    "    data = pd.read_csv(file_path)\n",
    "\n",
    "   \n",
    "    data['sentiment'], data['confidence'] = zip(*data['processed_text'].apply(get_sentiment))\n",
    "\n",
    "    data = data[['processed_text', 'sentiment', 'confidence']]\n",
    "\n",
    "    all_data = pd.concat([all_data, data], ignore_index=True)\n",
    "\n",
    "output_path = r\"C:\\Users\\merci\\Documents\\SNU\\capstone\\sentiment_analysis_results_amazon.csv\"\n",
    "all_data.to_csv(output_path, index=False)\n",
    "print(f\"Sentiment analysis complete. Results saved to '{output_path}'\")\n"
   ]
  },
  {
   "cell_type": "code",
   "execution_count": null,
   "id": "30f8fbbf",
   "metadata": {},
   "outputs": [],
   "source": []
  }
 ],
 "metadata": {
  "kernelspec": {
   "display_name": "Python 3 (ipykernel)",
   "language": "python",
   "name": "python3"
  },
  "language_info": {
   "codemirror_mode": {
    "name": "ipython",
    "version": 3
   },
   "file_extension": ".py",
   "mimetype": "text/x-python",
   "name": "python",
   "nbconvert_exporter": "python",
   "pygments_lexer": "ipython3",
   "version": "3.9.7"
  }
 },
 "nbformat": 4,
 "nbformat_minor": 5
}
